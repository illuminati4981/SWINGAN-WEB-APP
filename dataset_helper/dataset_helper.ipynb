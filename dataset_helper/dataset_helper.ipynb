{
 "cells": [
  {
   "cell_type": "code",
   "execution_count": 1,
   "metadata": {},
   "outputs": [],
   "source": [
    "from PIL import Image\n",
    "import matplotlib.pyplot as plt\n",
    "import numpy as np\n",
    "import os"
   ]
  },
  {
   "cell_type": "code",
   "execution_count": 8,
   "metadata": {},
   "outputs": [
    {
     "data": {
      "text/plain": [
       "['result_16.png', 'result_56.png', 'result_60.png']"
      ]
     },
     "execution_count": 8,
     "metadata": {},
     "output_type": "execute_result"
    }
   ],
   "source": [
    "grid_imgs_path = os.listdir(\"C:\\\\Users\\\\dstud\\\\Desktop\\\\FYP\\\\Web-app\\\\dataset_helper\")\n",
    "grid_imgs_path = [img_path for img_path in grid_imgs_path if img_path.rsplit('.', 1)[-1] == \"png\"]\n",
    "grid_imgs_path"
   ]
  },
  {
   "cell_type": "code",
   "execution_count": 17,
   "metadata": {},
   "outputs": [],
   "source": [
    "def crop_grid_img(grid_img, size = (3, 16)):\n",
    "    w, h = grid_img.size\n",
    "    img_resolution = 256\n",
    "    # print(w, h)\n",
    "    gt_deg_restored_pairs_list = []\n",
    "    for x in list(range(0, img_resolution * size[1], img_resolution)):\n",
    "        # left upper right lower\n",
    "        box=(x, 0, x + img_resolution, h)\n",
    "        gt_deg_restored_pairs = grid_img.crop(box)\n",
    "        gt_deg_restored_pairs_list.append(gt_deg_restored_pairs)\n",
    "\n",
    "    # print(len(gt_deg_restored_pairs_list))\n",
    "    out = []\n",
    "    for pair in gt_deg_restored_pairs_list:\n",
    "        sub_out = []\n",
    "        for y in list(range(0, h, h//size[0])):\n",
    "            box=(0, y, img_resolution, y + img_resolution)\n",
    "            img = pair.crop(box)\n",
    "            sub_out.append(img)\n",
    "        out.append(sub_out)\n",
    "    print(len(out), len(out[0]))\n",
    "    return out"
   ]
  },
  {
   "cell_type": "code",
   "execution_count": 18,
   "metadata": {},
   "outputs": [
    {
     "name": "stdout",
     "output_type": "stream",
     "text": [
      "result_16\n",
      "16 3\n",
      "result_56\n",
      "16 3\n",
      "result_60\n",
      "16 3\n"
     ]
    }
   ],
   "source": [
    "dir = \"out\"\n",
    "for grid_imgs in grid_imgs_path:\n",
    "    img = Image.open(grid_imgs)\n",
    "    filename = img.filename.rsplit(\".\", 1)[0]\n",
    "    print(filename)\n",
    "    result = crop_grid_img(img)\n",
    "    for i, pair in enumerate(result):\n",
    "        assert len(pair) == 3\n",
    "        gt_filename = f\"{filename}_{i}_gt.png\"\n",
    "        deg_filename = f\"{filename}_{i}_deg.png\"\n",
    "        restored_filename = f\"{filename}_{i}_restored.png\"\n",
    "\n",
    "        gt_filename = os.path.join(dir, gt_filename)\n",
    "        deg_filename = os.path.join(dir, deg_filename)\n",
    "        restored_filename = os.path.join(dir, restored_filename)\n",
    "\n",
    "        gt, deg, restored = pair[0], pair[1], pair[2]\n",
    "\n",
    "        gt.save(gt_filename, format=\"PNG\")\n",
    "        deg.save(deg_filename, format=\"PNG\")\n",
    "        restored.save(restored_filename, format=\"PNG\")"
   ]
  },
  {
   "cell_type": "code",
   "execution_count": null,
   "metadata": {},
   "outputs": [],
   "source": []
  }
 ],
 "metadata": {
  "kernelspec": {
   "display_name": "Python 3.10.9 ('base')",
   "language": "python",
   "name": "python3"
  },
  "language_info": {
   "codemirror_mode": {
    "name": "ipython",
    "version": 3
   },
   "file_extension": ".py",
   "mimetype": "text/x-python",
   "name": "python",
   "nbconvert_exporter": "python",
   "pygments_lexer": "ipython3",
   "version": "3.10.9"
  },
  "orig_nbformat": 4,
  "vscode": {
   "interpreter": {
    "hash": "a630adcdfa70e799349af4249fb52c8370744ce02071f40709c5a19c641d23a9"
   }
  }
 },
 "nbformat": 4,
 "nbformat_minor": 2
}
